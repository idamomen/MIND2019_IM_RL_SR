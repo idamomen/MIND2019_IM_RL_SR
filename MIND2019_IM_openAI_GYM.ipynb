{
 "cells": [
  {
   "cell_type": "markdown",
   "metadata": {},
   "source": [
    "# Simple Reinforcement Learning With Python\n",
    "\n",
    "In this notebook we start with a very simple RL example and solve a simple problem from the Open AI GYM using Q leanring and random action. \n",
    "You will need gym, numpy, random, time, matplotlib, and tqdm (optional).\n",
    "\n",
    "You can install in a new cell here:\n",
    "\n",
    "!pip install gym==0.7.4\n",
    "\n",
    "https://pypi.org/project/gym/0.7.4/\n",
    "\n",
    "https://github.com/openai/gym\n",
    "\n",
    "\n",
    "\n",
    "## Goals: \n",
    "By the end of this notebook, the key concepts to learn are the parameters that are important for setting up learning algorithms, comparing random trial and error versus simple Q-learning. As we go through, keep track of key lines in the code to identify and explain the role of learning rate, discount, and exploraiton parameters. \n",
    "\n",
    "Extra points to whoever can write Q-learning equations on the board, and point where in the code they're implemented :) \n",
    "\n",
    "**Cheat sheet: http://incompleteideas.net/book/bookdraft2017nov5.pdf"
   ]
  },
  {
   "cell_type": "code",
   "execution_count": 2,
   "metadata": {},
   "outputs": [],
   "source": [
    "import gym\n",
    "import numpy as np\n",
    "import random\n",
    "from IPython.display import clear_output\n",
    "from time import sleep\n",
    "from matplotlib import pyplot as plt\n",
    "from tqdm import tqdm"
   ]
  },
  {
   "cell_type": "markdown",
   "metadata": {},
   "source": [
    "# Using open AI GYM\n",
    "\n",
    "Here the gol is very simple: create an evironment from the library offered by AI GYM. There are many environments there, and we will use a very simple problem: the taxi problem.\n",
    "\n",
    "\n",
    "The taxi problem is very inuitive: you are making a self driving taxi in a grid world. You're coding how the taxi will do this!  There are 4 locations (labeled by different letters) and your job is to pick up the passenger at one location and drop them off in another. You receive +20 points for a successful dropoff, and lose 1 point for every timestep it takes. There is also a 10 point penalty for illegal pick-up and drop-off actions. This task was introduced in the paper below to illustrate some issues in hierarchical reinforcement learning:\n",
    "\n",
    "\n",
    "T Erez, Y Tassa, E Todorov, \"Hierarchical Reinforcement Learning with the MAXQ Value Function Decomposition\", 2011.\n",
    "\n",
    "You can view the AI GYM source code on github:\n",
    "https://github.com/openai/gym/blob/master/gym/envs/toy_text/taxi.py\n",
    "\n",
    "Now let's create the taxi environment using the AI GYM (which we imported above). Its dicitonary's structure is very simple:\n",
    "{action: [(probability, nextstate, reward, done)]}"
   ]
  },
  {
   "cell_type": "code",
   "execution_count": 5,
   "metadata": {},
   "outputs": [
    {
     "name": "stdout",
     "output_type": "stream",
     "text": [
      "{0: [(1.0, 110, -1, False)], 1: [(1.0, 10, -1, False)], 2: [(1.0, 30, -1, False)], 3: [(1.0, 10, -1, False)], 4: [(1.0, 10, -10, False)], 5: [(1.0, 10, -10, False)]}\n"
     ]
    },
    {
     "data": {
      "text/plain": [
       "<gym.envs.toy_text.taxi.TaxiEnv at 0x114b4cb00>"
      ]
     },
     "execution_count": 5,
     "metadata": {},
     "output_type": "execute_result"
    }
   ],
   "source": [
    "env= gym.make(\"Taxi-v2\").env\n",
    "\n",
    "# let's see what's stored \n",
    "print(env.P[10])\n",
    "env."
   ]
  },
  {
   "cell_type": "markdown",
   "metadata": {},
   "source": [
    "# Seeking rewards by random trial and error\n",
    "Let's create an infinite loop which runs until one passenger reaches one destination (one episode), i.e. when the received reward is 20.\n",
    "The env.action_space.sample() method selects one random action from all possible actions.\n",
    "\n",
    "\n",
    "    Description:\n",
    "    There are four designated locations in the grid world indicated by R(ed), B(lue), G(reen), and Y(ellow). When the episode starts, the taxi starts off at a random square and the passenger is at a random location. The taxi drive to the passenger's location, pick up the passenger, drive to the passenger's destination (another one of the four specified locations), and then drop off the passenger. Once the passenger is dropped off, the episode ends.\n",
    "    Observations: \n",
    "    There are 500 discrete states since there are 25 taxi positions, 5 possible locations of the passenger (including the case when the passenger is the taxi), and 4 destination locations. \n",
    "    \n",
    "    Actions: \n",
    "    There are 6 discrete deterministic actions:\n",
    "    - 0: move south\n",
    "    - 1: move north\n",
    "    - 2: move east \n",
    "    - 3: move west \n",
    "    - 4: pickup passenger\n",
    "    - 5: dropoff passenger\n",
    "    \n",
    "    Rewards: \n",
    "    There is a reward of -1 for each action and an additional reward of +20 for delievering the passenger. \n",
    "    There is a reward of -10 for executing actions \"pickup\" and \"dropoff\" illegally.\n",
    "    \n",
    "    Actions:\n",
    "    - 0: south\n",
    "    - 1: north\n",
    "    - 2: east\n",
    "    - 3: west\n",
    "    - 4: pickup\n",
    "    - 5: dropoff\n",
    "    state space is represented by:\n",
    "        (taxi_row, taxi_col, passenger_location, destination)"
   ]
  },
  {
   "cell_type": "code",
   "execution_count": 6,
   "metadata": {},
   "outputs": [
    {
     "name": "stdout",
     "output_type": "stream",
     "text": [
      "Timesteps/epochs taken: 256\n",
      "Penalties so far: 58\n"
     ]
    }
   ],
   "source": [
    "env= gym.make(\"Taxi-v2\").env\n",
    "env.s=328\n",
    "\n",
    "# set number of iterations, penalties and reward to zero\n",
    "epochs=0\n",
    "penalties, reward= 0, 0\n",
    "done=False\n",
    "\n",
    "while not done:\n",
    "    # sample a random action\n",
    "    action=env.action_space.sample()\n",
    "    # step the agent with that action and collect reward \n",
    "    state, reward, done, info = env.step(action)\n",
    "    # what you got?\n",
    "    if reward ==-10:\n",
    "        penalties+=1    \n",
    "    epochs+=1\n",
    "    \n",
    "print(\"Timesteps/epochs taken: {}\".format(epochs))\n",
    "print(\"Penalties so far: {}\".format(penalties))\n",
    "    \n"
   ]
  },
  {
   "cell_type": "markdown",
   "metadata": {},
   "source": [
    "Run the code above multiple times. Observe how many timesteps or epochs it takes the taxi to deliver someone with random action. Look at the penalties.\n",
    "\n",
    "Now let's do the same, but this time save some parameters so we can see what our taxi did!"
   ]
  },
  {
   "cell_type": "code",
   "execution_count": 10,
   "metadata": {},
   "outputs": [
    {
     "name": "stdout",
     "output_type": "stream",
     "text": [
      "+---------+\n",
      "|\u001b[35m\u001b[42mR\u001b[0m\u001b[0m: | : :G|\n",
      "| : : : : |\n",
      "| : : : : |\n",
      "| | : | : |\n",
      "|Y| : |B: |\n",
      "+---------+\n",
      "  (Dropoff)\n",
      "\n",
      "timestep: 1290\n",
      "state: 16\n",
      "action: 5\n",
      "reward: 20\n"
     ]
    }
   ],
   "source": [
    "env= gym.make(\"Taxi-v2\").env\n",
    "env.s=328\n",
    "\n",
    "# set number o fiterations, penalties and reward to zero\n",
    "epochs=0\n",
    "penalties, reward= 0, 0\n",
    "\n",
    "frames=[]\n",
    "done=False\n",
    "\n",
    "while not done:\n",
    "    # sample a random action\n",
    "    action=env.action_space.sample()\n",
    "    # step the agent with that action and collect reward \n",
    "    state, reward, done, info = env.step(action)\n",
    "    # what you got?\n",
    "    if reward ==-10:\n",
    "        penalties+=1\n",
    "        \n",
    "    # save each rendered frame into the dicitonary for animaiton\n",
    "    frames.append({\n",
    "        'frame': env.render(mode='ansi'),\n",
    "        'state': state,\n",
    "        'action': action,\n",
    "        'reward':reward\n",
    "    })\n",
    "    epochs+=1\n",
    "    \n",
    "print(\"Timesteps/epochs taken: {}\".format(epochs))\n",
    "print(\"Penalties so far: {}\".format(penalties))\n",
    "\n",
    "    \n",
    "    \n",
    "# print all actions, states, rewards\n",
    "def frames_f(frames):\n",
    "    for i, frame in enumerate(frames):\n",
    "        clear_output(wait=True)\n",
    "        print(frame['frame'].getvalue())\n",
    "        print(f\"timestep: {i+1}\")\n",
    "        print(f\"state: {frame['state']}\")\n",
    "        print(f\"action: {frame['action']}\")\n",
    "        print(f\"reward: {frame['reward']}\")\n",
    "        sleep(.1)\n",
    "        \n",
    "print(\"Watching random action when the goal is so clear is so frustrating...\")\n",
    "frames_f(frames)"
   ]
  },
  {
   "cell_type": "code",
   "execution_count": 4,
   "metadata": {},
   "outputs": [
    {
     "name": "stdout",
     "output_type": "stream",
     "text": [
      "+---------+\n",
      "|\u001b[35mR\u001b[0m: | : :G|\n",
      "| : : : : |\n",
      "| : : : : |\n",
      "| |\u001b[43m \u001b[0m: | : |\n",
      "|\u001b[34;1mY\u001b[0m| : |B: |\n",
      "+---------+\n",
      "  (Dropoff)\n",
      "\n"
     ]
    }
   ],
   "source": [
    "# you can also look into every freeze frame of all the time steps our taxi took\n",
    "print(frames[1]['frame'].getvalue())"
   ]
  },
  {
   "cell_type": "markdown",
   "metadata": {},
   "source": [
    "# Below is the Q learning algorithm \n",
    "\n",
    "Step 1: Initialize the Q-Table with all zeros and Q-Values to arbitrary constants.\n",
    "\n",
    "Step 2: Let the agent react to the environment and explore the actions. For each change in state, select any one among all possible actions for the current state (S).\n",
    "\n",
    "Step 3: Travel to the next state (S’) as a result of that action (a).\n",
    "\n",
    "Step 4: For all possible actions from the state (S’) select the one with the highest Q-value.\n",
    "\n",
    "Step 5: Update Q-table values using the equation.\n",
    "\n",
    "State 6: Change the next state as the current state.\n",
    "\n",
    "Step 7: If goal state is reached, then end and repeat the process."
   ]
  },
  {
   "cell_type": "code",
   "execution_count": 14,
   "metadata": {},
   "outputs": [
    {
     "name": "stdout",
     "output_type": "stream",
     "text": [
      "action space: 6\n",
      "observation space: 500\n"
     ]
    }
   ],
   "source": [
    "# Init Taxi-V2 Env\n",
    "env = gym.make(\"Taxi-v2\").env\n",
    "\n",
    "# Init q table, arbitrary values\n",
    "q_tab= np.zeros([env.observation_space.n, env.action_space.n])\n",
    "print('action space: {}'.format(np.size(q_tab, 1)))\n",
    "print('observation space: {}'.format(np.size(q_tab, 0)))\n",
    "\n",
    "# hyper parameters\n",
    "# workshop:: By the end of this notebook, can you tell what q and these parameters do?\n",
    "# can \n",
    "alpha=.1\n",
    "gamma=.6\n",
    "epsilon=.1\n",
    "\n",
    "all_epochs,all_penalties=[],[]"
   ]
  },
  {
   "cell_type": "markdown",
   "metadata": {},
   "source": [
    "# Let's write a smarter action selection function.\n",
    "It's mostly greedy and wants to get the most reward :)\n",
    "But with a small probaiblity (epsilon) it will take a random action\n",
    "This way it has some opportunity to explore\n",
    "**$ Bonus point $**: when we don't know much, it's useful to explore more. \n",
    "When we know more, maybe exploration is not great. Can you write a decaying exploration function?"
   ]
  },
  {
   "cell_type": "code",
   "execution_count": 11,
   "metadata": {},
   "outputs": [],
   "source": [
    "def select_action(env, epsilon):\n",
    "    if random.uniform(0,1)<epsilon:\n",
    "        # explore action space: take random\n",
    "        action=env.action_space.sample()\n",
    "    else:\n",
    "        # check learned q values & take the best action that maximizes reward (greedy!)\n",
    "        action=np.argmax(q_table[state])\n",
    "    return action\n"
   ]
  },
  {
   "cell_type": "markdown",
   "metadata": {},
   "source": [
    "# Now we can train our taxi to be greedy, learn things and remember good actions, while exploring a bit! \n",
    "Here, we learn from every episode. An episode is from begin to end, when the taxi finally delivers a passenger. An epoch is just one round of action selection, observation, updating of Q values, then moving on to the next state.\n",
    "\n"
   ]
  },
  {
   "cell_type": "code",
   "execution_count": 15,
   "metadata": {},
   "outputs": [
    {
     "name": "stderr",
     "output_type": "stream",
     "text": [
      "\r",
      "100%|██████████| 1000/1000 [00:12<00:00, 78.87it/s]"
     ]
    },
    {
     "name": "stdout",
     "output_type": "stream",
     "text": [
      "Episode: 1000\n",
      "Training is Done.\n"
     ]
    },
    {
     "name": "stderr",
     "output_type": "stream",
     "text": [
      "\n"
     ]
    },
    {
     "data": {
      "text/plain": [
       "Text(0.5, 0, 'Training Epiode')"
      ]
     },
     "execution_count": 15,
     "metadata": {},
     "output_type": "execute_result"
    },
    {
     "data": {
      "image/png": "[encoded data removed]",
      "text/plain": [
       "<Figure size 432x288 with 1 Axes>"
      ]
     },
     "metadata": {
      "needs_background": "light"
     },
     "output_type": "display_data"
    }
   ],
   "source": [
    "# Q table keeps a table of value of actions. \n",
    "# Bonus question: What's the difference between Q value and reward?\n",
    "\n",
    "q_table= np.zeros([env.observation_space.n, env.action_space.n])\n",
    "n_train=1001\n",
    "frames, all_epochs=[],[]\n",
    "\n",
    "for i in tqdm(range(1,n_train)): # training episodes\n",
    "    \n",
    "    # reset to a random state\n",
    "    state=env.reset()\n",
    "    \n",
    "    # init vars\n",
    "    epochs, penalties, reward = 0, 0, 0\n",
    "    \n",
    "    done=False\n",
    "    while not done: # use epochs\n",
    "        \n",
    "        # select action: explore or exploit?\n",
    "        action=0\n",
    "        action=select_action(env, epsilon)\n",
    "        \n",
    "        # take action, get outcome\n",
    "        next_state, reward, done, info=env.step(action)\n",
    "        \n",
    "        # $$$ update new value $$$\n",
    "        old_value=q_table[state, action]\n",
    "        next_max = np.max(q_table[next_state])                \n",
    "        new_value = (1-alpha)*old_value+alpha*(reward+gamma*next_max)\n",
    "        q_table[state, action]=new_value\n",
    "        \n",
    "        # oh oh\n",
    "        if reward==-10: # illegal action\n",
    "            penalties +=1\n",
    "        \n",
    "        # advance to next state\n",
    "        state=next_state\n",
    "        epochs+=1\n",
    "        \n",
    "        # save for plots\n",
    "        frames.append({\n",
    "        'frame': env.render(mode='ansi'),\n",
    "        'state': state,\n",
    "        'action': action,\n",
    "        'reward':reward\n",
    "        })\n",
    "    #frames_f(frames)\n",
    "    #sleep(.1)\n",
    "    #print('epochs: {}'.format(epochs))\n",
    "    all_epochs.append(epochs)\n",
    "    if i % 100==0:\n",
    "        sleep(.1)\n",
    "        clear_output(wait=True)\n",
    "        print(\"Episode: {}\".format(i))\n",
    "        \n",
    "print(\"Training is Done.\")\n",
    "\n",
    "#######\n",
    "plt.plot(all_epochs) \n",
    "plt.ylabel('Number of epochs', fontsize=20)\n",
    "plt.xlabel('Training Epiode', fontsize=20)\n",
    "\n"
   ]
  },
  {
   "cell_type": "markdown",
   "metadata": {},
   "source": [
    "# Compare random action vs. Q-learning \n",
    "\n",
    "Now we can ompare the result of selecting random actions, which can sometimes be rewarding, versus the Q-learning approach above. But to be fair, let's allow our random policy rival company to have its taxi experience a 1000 episodes too."
   ]
  },
  {
   "cell_type": "code",
   "execution_count": 16,
   "metadata": {},
   "outputs": [
    {
     "name": "stderr",
     "output_type": "stream",
     "text": [
      "100%|██████████| 1000/1000 [00:25<00:00, 37.84it/s]"
     ]
    },
    {
     "name": "stdout",
     "output_type": "stream",
     "text": [
      "Done.\n"
     ]
    },
    {
     "name": "stderr",
     "output_type": "stream",
     "text": [
      "\n"
     ]
    },
    {
     "data": {
      "text/plain": [
       "Text(0.5, 0, 'Training Epiode')"
      ]
     },
     "execution_count": 16,
     "metadata": {},
     "output_type": "execute_result"
    },
    {
     "data": {
      "image/png": "[encoded data removed]",
      "text/plain": [
       "<Figure size 432x288 with 1 Axes>"
      ]
     },
     "metadata": {
      "needs_background": "light"
     },
     "output_type": "display_data"
    }
   ],
   "source": [
    "# take a random action approach \n",
    "penalties, reward= 0, 0\n",
    "all_epochs_rand=[]\n",
    "for i in tqdm(range(1,n_train)):\n",
    "    epochs=0\n",
    "    done=False\n",
    "    while not done:\n",
    "        # sample a random action\n",
    "        action=env.action_space.sample()\n",
    "        # step the agent and get reward with that action\n",
    "        state, reward, done, info = env.step(action)\n",
    "        # wrong move?\n",
    "        if reward ==-10:\n",
    "            penalties+=1\n",
    "        epochs+=1\n",
    "    all_epochs_rand.append(epochs)\n",
    "    \n",
    "print('Done.')\n",
    "\n",
    "plt.plot(all_epochs) \n",
    "plt.ylabel('Number of epochs', fontsize=20)\n",
    "plt.xlabel('Training Epiode', fontsize=20)"
   ]
  },
  {
   "cell_type": "code",
   "execution_count": 31,
   "metadata": {},
   "outputs": [
    {
     "data": {
      "text/plain": [
       "Text(0.5, 0, 'Q-Learning')"
      ]
     },
     "execution_count": 31,
     "metadata": {},
     "output_type": "execute_result"
    },
    {
     "data": {
      "image/png": "[encoded data removed]",
      "text/plain": [
       "<Figure size 432x288 with 2 Axes>"
      ]
     },
     "metadata": {
      "needs_background": "light"
     },
     "output_type": "display_data"
    }
   ],
   "source": [
    "plt.subplot(1,2,1)\n",
    "plt.plot(all_epochs_rand, 'y')\n",
    "plt.plot(all_epochs)\n",
    "plt.ylabel('Number of epochs', fontsize=20)\n",
    "plt.xlabel('Random Exploration', fontsize=20)\n",
    "plt.subplot(1,2,2)\n",
    "plt.plot(all_epochs)\n",
    "plt.xlabel('Q-Learning', fontsize=20)\n",
    "\n"
   ]
  },
  {
   "cell_type": "markdown",
   "metadata": {},
   "source": [
    "Yellow is random, blue is Q-learning. I plotted them together on the left so you can really compare! See that little blue thing below the random epochs? yeah that's how long Q learning takes. On the right you can see it zoomed in. No wonder insects and mammals don't just randomly move in the world bumping into things (mostly), costs are high. Oh and Q learning is not even the best RL game in town!\n",
    "\n",
    "\n",
    "# Nicely done :) See if you can answer these questions: \n",
    "\n",
    "\n",
    "What's the difference between 1000 episodes of random trial and error and 1000 episodes of learning the value of action and doing some trial and error?\n",
    "\n",
    "What are alpha, gamma, and epsilon?\n",
    "\n",
    "Can you write the equation for Q learning?\n",
    "\n",
    "When is it optimal to explore more? \n",
    "\n",
    "Is there something in this code you can apply to a probelm you're interested in? \n",
    "\n",
    "Here we used a simple example from Open AI GYM. I challenge you to make an environment (it's super simple really!) on your own. Taxi is too much, make a simple T maze, put reward on left or right. I'll help :) \n",
    "\n",
    "\n",
    "# You're ready for the next notebook!"
   ]
  },
  {
   "cell_type": "code",
   "execution_count": null,
   "metadata": {},
   "outputs": [],
   "source": []
  }
 ],
 "metadata": {
  "kernelspec": {
   "display_name": "Python 3",
   "language": "python",
   "name": "python3"
  },
  "language_info": {
   "codemirror_mode": {
    "name": "ipython",
    "version": 3
   },
   "file_extension": ".py",
   "mimetype": "text/x-python",
   "name": "python",
   "nbconvert_exporter": "python",
   "pygments_lexer": "ipython3",
   "version": "3.7.1"
  }
 },
 "nbformat": 4,
 "nbformat_minor": 2
}
